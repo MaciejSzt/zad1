{
 "cells": [
  {
   "cell_type": "code",
   "execution_count": 1,
   "id": "a3f357c1-5aef-4123-bee7-b59c4fdac066",
   "metadata": {},
   "outputs": [
    {
     "name": "stdout",
     "output_type": "stream",
     "text": [
      "Writing app.py\n"
     ]
    }
   ],
   "source": [
    "%%file app.py\n",
    "from flask import Flask, request, jsonify\n",
    "\n",
    "app = Flask(__name__)\n",
    "\n",
    "@app.route('/predict')\n",
    "def predict():\n",
    "    x = request.args.get('x', default=0, type=float)\n",
    "    y = request.args.get('y', default=0, type=float)\n",
    "    suma = x + y\n",
    "    prediction = 1 if suma > 5.8 else 0\n",
    "    return jsonify({\n",
    "        'features': {'x': x, 'y': y},\n",
    "        'prediction': prediction\n",
    "    })\n",
    "\n",
    "if __name__ == '__main__':\n",
    "    app.run(host='0.0.0.0')"
   ]
  },
  {
   "cell_type": "code",
   "execution_count": 8,
   "id": "9472482c-00d0-4dd7-955c-99b50af8fbf4",
   "metadata": {},
   "outputs": [
    {
     "name": "stdout",
     "output_type": "stream",
     "text": [
      "Overwriting Dockerfile\n"
     ]
    }
   ],
   "source": [
    "%%file Dockerfile\n",
    "FROM python:3.11-slim-buster\n",
    "\n",
    "WORKDIR /app\n",
    "\n",
    "COPY requirements.txt requirements.txt\n",
    "\n",
    "RUN pip install -r requirements.txt\n",
    "\n",
    "COPY app.py .\n",
    "\n",
    "ENV FLASK_APP=app\n",
    "\n",
    "EXPOSE 5000\n",
    "CMD [\"flask\", \"run\", \"--host\", \"0.0.0.0\", \"--port\", \"5000\"]"
   ]
  },
  {
   "cell_type": "code",
   "execution_count": 4,
   "id": "4930fb46-dbb6-4a22-919a-6ef5642c847a",
   "metadata": {},
   "outputs": [
    {
     "name": "stdout",
     "output_type": "stream",
     "text": [
      "\u001b[33mWARNING: Ignoring invalid distribution ~lask (/opt/conda/lib/python3.11/site-packages)\u001b[0m\u001b[33m\n",
      "\u001b[0m\u001b[33mWARNING: Ignoring invalid distribution ~lask (/opt/conda/lib/python3.11/site-packages)\u001b[0m\u001b[33m\n",
      "\u001b[0m\u001b[33mWARNING: Ignoring invalid distribution ~lask (/opt/conda/lib/python3.11/site-packages)\u001b[0m\u001b[33m\n",
      "\u001b[0m\u001b[33mWARNING: Ignoring invalid distribution ~lask (/opt/conda/lib/python3.11/site-packages)\u001b[0m\u001b[33m\n",
      "\u001b[0m\u001b[33mWARNING: Ignoring invalid distribution ~lask (/opt/conda/lib/python3.11/site-packages)\u001b[0m\u001b[33m\n",
      "\u001b[0m\u001b[33mWARNING: Ignoring invalid distribution ~lask (/opt/conda/lib/python3.11/site-packages)\u001b[0m\u001b[33m\n",
      "\u001b[0m"
     ]
    }
   ],
   "source": [
    "!pip install pytest requests -q"
   ]
  },
  {
   "cell_type": "code",
   "execution_count": 4,
   "id": "80848b69-cc75-4f24-8015-fbfd9ba1f9dc",
   "metadata": {},
   "outputs": [
    {
     "name": "stdout",
     "output_type": "stream",
     "text": [
      "Overwriting test_app.py\n"
     ]
    }
   ],
   "source": [
    "%%file test_app.py\n",
    "import pytest\n",
    "import requests\n",
    "\n",
    "def test_predict():\n",
    "    url = \"http://127.0.0.1:5000/predict\"\n",
    "    params = {'x': 3, 'y': 4}\n",
    "\n",
    "    response = requests.get(url, params=params)\n",
    "\n",
    "    assert response.status_code == 200\n",
    "\n",
    "    data = response.json()\n",
    "    assert data[\"features\"][\"x\"] == 3\n",
    "    assert data[\"features\"][\"y\"] == 4\n",
    "    assert data[\"prediction\"] == 1\n",
    "\n",
    "\n"
   ]
  },
  {
   "cell_type": "code",
   "execution_count": 5,
   "id": "0fb2b266-7367-4396-8de4-08e183de2eec",
   "metadata": {},
   "outputs": [
    {
     "name": "stdout",
     "output_type": "stream",
     "text": [
      "\u001b[1m============================= test session starts ==============================\u001b[0m\n",
      "platform linux -- Python 3.11.6, pytest-8.3.5, pluggy-1.5.0\n",
      "rootdir: /home/jovyan/notebooks/zadanie1\n",
      "plugins: anyio-4.0.0\n",
      "collected 1 item                                                               \u001b[0m\n",
      "\n",
      "test_app.py \u001b[32m.\u001b[0m\u001b[32m                                                            [100%]\u001b[0m\n",
      "\n",
      "\u001b[32m============================== \u001b[32m\u001b[1m1 passed\u001b[0m\u001b[32m in 0.02s\u001b[0m\u001b[32m ===============================\u001b[0m\n"
     ]
    }
   ],
   "source": [
    "!pytest test_app.py"
   ]
  }
 ],
 "metadata": {
  "kernelspec": {
   "display_name": "Python 3 (ipykernel)",
   "language": "python",
   "name": "python3"
  },
  "language_info": {
   "codemirror_mode": {
    "name": "ipython",
    "version": 3
   },
   "file_extension": ".py",
   "mimetype": "text/x-python",
   "name": "python",
   "nbconvert_exporter": "python",
   "pygments_lexer": "ipython3",
   "version": "3.11.6"
  }
 },
 "nbformat": 4,
 "nbformat_minor": 5
}
